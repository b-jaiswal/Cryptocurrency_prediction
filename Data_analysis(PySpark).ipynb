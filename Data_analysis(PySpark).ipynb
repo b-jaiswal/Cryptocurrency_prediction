{
 "cells": [
  {
   "cell_type": "code",
   "execution_count": null,
   "metadata": {
    "colab": {
     "base_uri": "https://localhost:8080/"
    },
    "id": "_-P5BwB_n4Hb",
    "outputId": "c0fa1218-7434-418b-a175-d0f689a3e86e"
   },
   "outputs": [
    {
     "name": "stdout",
     "output_type": "stream",
     "text": [
      "Looking in indexes: https://pypi.org/simple, https://us-python.pkg.dev/colab-wheels/public/simple/\n",
      "Requirement already satisfied: pyspark in /usr/local/lib/python3.8/dist-packages (3.3.2)\n",
      "Requirement already satisfied: py4j==0.10.9.5 in /usr/local/lib/python3.8/dist-packages (from pyspark) (0.10.9.5)\n"
     ]
    }
   ],
   "source": [
    "pip install pyspark"
   ]
  },
  {
   "cell_type": "code",
   "execution_count": null,
   "metadata": {
    "id": "8ahHYvZCmI5P"
   },
   "outputs": [],
   "source": [
    "# import findspark\n",
    "# findspark.init('/home/jubinsoni/spark-2.1.0-bin-hadoop2.7')\n",
    "\n",
    "from pyspark.sql import SparkSession\n",
    "\n",
    "spark = SparkSession.builder.appName('Bitcoin').getOrCreate()"
   ]
  },
  {
   "cell_type": "code",
   "execution_count": null,
   "metadata": {
    "id": "llnOQEXIoIzD"
   },
   "outputs": [],
   "source": [
    "# from pyspark.context import SparkContext\n",
    "# from pyspark.sql.session import SparkSession\n",
    "# sc = SparkContext.getOrCreate()\n",
    "# spark = SparkSession(sc)\n",
    "df = spark.read.csv('/content/btc.csv', inferSchema=True, header=True)"
   ]
  },
  {
   "cell_type": "code",
   "execution_count": null,
   "metadata": {
    "colab": {
     "base_uri": "https://localhost:8080/"
    },
    "id": "JoYy7vNKpYMO",
    "outputId": "2e7d2a5d-5253-42e4-f8d5-b5ad8341f5f5"
   },
   "outputs": [
    {
     "data": {
      "text/plain": [
       "['Date', 'Open', 'High', 'Low', 'Close', 'Volume', 'Dividends', 'Stock Splits']"
      ]
     },
     "execution_count": 6,
     "metadata": {},
     "output_type": "execute_result"
    }
   ],
   "source": [
    "df.columns"
   ]
  },
  {
   "cell_type": "code",
   "execution_count": null,
   "metadata": {
    "colab": {
     "base_uri": "https://localhost:8080/"
    },
    "id": "W0imDdS_pbyx",
    "outputId": "5e2b08b8-b9ee-427b-8e24-ea58331cf952"
   },
   "outputs": [
    {
     "name": "stdout",
     "output_type": "stream",
     "text": [
      "root\n",
      " |-- Date: timestamp (nullable = true)\n",
      " |-- Open: double (nullable = true)\n",
      " |-- High: double (nullable = true)\n",
      " |-- Low: double (nullable = true)\n",
      " |-- Close: double (nullable = true)\n",
      " |-- Volume: long (nullable = true)\n",
      " |-- Dividends: double (nullable = true)\n",
      " |-- Stock Splits: double (nullable = true)\n",
      "\n"
     ]
    }
   ],
   "source": [
    "df.printSchema()"
   ]
  },
  {
   "cell_type": "code",
   "execution_count": null,
   "metadata": {
    "colab": {
     "base_uri": "https://localhost:8080/"
    },
    "id": "-eVeHliEpeGz",
    "outputId": "fa8e00e2-897f-4859-aa94-2289d8c486ba"
   },
   "outputs": [
    {
     "name": "stdout",
     "output_type": "stream",
     "text": [
      "Row(Date=datetime.datetime(2014, 9, 17, 0, 0), Open=465.864013671875, High=468.17401123046875, Low=452.4219970703125, Close=457.3340148925781, Volume=21056800, Dividends=0.0, Stock Splits=0.0) \n",
      "\n",
      "Row(Date=datetime.datetime(2014, 9, 18, 0, 0), Open=456.8599853515625, High=456.8599853515625, Low=413.10400390625, Close=424.44000244140625, Volume=34483200, Dividends=0.0, Stock Splits=0.0) \n",
      "\n",
      "Row(Date=datetime.datetime(2014, 9, 19, 0, 0), Open=424.1029968261719, High=427.8349914550781, Low=384.5320129394531, Close=394.7959899902344, Volume=37919700, Dividends=0.0, Stock Splits=0.0) \n",
      "\n",
      "Row(Date=datetime.datetime(2014, 9, 20, 0, 0), Open=394.6730041503906, High=423.2959899902344, Low=389.88299560546875, Close=408.90399169921875, Volume=36863600, Dividends=0.0, Stock Splits=0.0) \n",
      "\n",
      "Row(Date=datetime.datetime(2014, 9, 21, 0, 0), Open=408.0849914550781, High=412.4259948730469, Low=393.1809997558594, Close=398.8210144042969, Volume=26580100, Dividends=0.0, Stock Splits=0.0) \n",
      "\n"
     ]
    }
   ],
   "source": [
    "for line in df.head(5):\n",
    "    print(line, '\\n')"
   ]
  },
  {
   "cell_type": "code",
   "execution_count": null,
   "metadata": {
    "colab": {
     "base_uri": "https://localhost:8080/"
    },
    "id": "Coq6QfVXpf7x",
    "outputId": "c2be102c-d6db-4e2d-9fe7-644b49f33eaf"
   },
   "outputs": [
    {
     "name": "stdout",
     "output_type": "stream",
     "text": [
      "+-------+------------------+------------------+------------------+------------------+--------------------+---------+------------+\n",
      "|summary|              Open|              High|               Low|             Close|              Volume|Dividends|Stock Splits|\n",
      "+-------+------------------+------------------+------------------+------------------+--------------------+---------+------------+\n",
      "|  count|              3080|              3080|              3080|              3080|                3080|     3080|        3080|\n",
      "|   mean|13000.845239535245|13326.707258977518|12640.061015963864|13007.106122698102|1.647416954993052E10|      0.0|         0.0|\n",
      "| stddev|16093.393447184968| 16504.24288218773|15619.891745513898| 16089.63585067296|1.985575808636123...|      0.0|         0.0|\n",
      "|    min|176.89700317382812| 211.7310028076172|171.50999450683594|178.10299682617188|             5914570|      0.0|         0.0|\n",
      "|    max|      67549.734375|         68789.625|        66382.0625|      67566.828125|        350967941479|      0.0|         0.0|\n",
      "+-------+------------------+------------------+------------------+------------------+--------------------+---------+------------+\n",
      "\n"
     ]
    }
   ],
   "source": [
    "df.describe().show()"
   ]
  },
  {
   "cell_type": "code",
   "execution_count": null,
   "metadata": {
    "colab": {
     "base_uri": "https://localhost:8080/"
    },
    "id": "bDpFmpDWphXN",
    "outputId": "02433c17-1a9c-437e-9ed9-ac4001782db7"
   },
   "outputs": [
    {
     "name": "stdout",
     "output_type": "stream",
     "text": [
      "+-------+---------+---------+---------+---------+---------+\n",
      "|summary|     Open|     High|      Low|    Close|   Volume|\n",
      "+-------+---------+---------+---------+---------+---------+\n",
      "|  count| 3,080.00| 3,080.00| 3,080.00| 3,080.00|    3,080|\n",
      "|   mean|13,000.85|13,326.71|12,640.06|13,007.11|     null|\n",
      "| stddev|16,093.39|16,504.24|15,619.89|16,089.64|     null|\n",
      "|    min|   176.90|   211.73|   171.51|   178.10|5,914,570|\n",
      "|    max|67,549.73|68,789.62|66,382.06|67,566.83|     null|\n",
      "+-------+---------+---------+---------+---------+---------+\n",
      "\n"
     ]
    }
   ],
   "source": [
    "from pyspark.sql.functions import format_number\n",
    "\n",
    "summary = df.describe()\n",
    "summary.select(summary['summary'],\n",
    "                  format_number(summary['Open'].cast('float'), 2).alias('Open'),\n",
    "                  format_number(summary['High'].cast('float'), 2).alias('High'),\n",
    "                  format_number(summary['Low'].cast('float'), 2).alias('Low'),\n",
    "                  format_number(summary['Close'].cast('float'), 2).alias('Close'),\n",
    "                  format_number(summary['Volume'].cast('int'),0).alias('Volume')\n",
    "                 ).show()"
   ]
  },
  {
   "cell_type": "code",
   "execution_count": null,
   "metadata": {
    "colab": {
     "base_uri": "https://localhost:8080/"
    },
    "id": "1w0iuHq2prDd",
    "outputId": "be8aded9-f492-4648-dad8-bd3066da84d6"
   },
   "outputs": [
    {
     "name": "stdout",
     "output_type": "stream",
     "text": [
      "+--------------------+\n",
      "|            HV Ratio|\n",
      "+--------------------+\n",
      "|2.223386322852801...|\n",
      "|1.324876999093942...|\n",
      "|1.128265760159173...|\n",
      "|1.148276321331162...|\n",
      "|1.551634474185751...|\n",
      "|1.686516624560345...|\n",
      "|9.790729538818336E-6|\n",
      "|1.423913645202606...|\n",
      "|1.579449806871203E-5|\n",
      "|1.933469340757334...|\n",
      "|  2.7055350937159E-5|\n",
      "|1.698267494551865...|\n",
      "|1.185348497078735...|\n",
      "|1.126497854186565...|\n",
      "|1.492138584194584...|\n",
      "|1.770145650263084...|\n",
      "|1.222266472901436...|\n",
      "|7.716215204592186E-6|\n",
      "|4.102854479750046E-6|\n",
      "|4.368132388903263E-6|\n",
      "+--------------------+\n",
      "only showing top 20 rows\n",
      "\n"
     ]
    }
   ],
   "source": [
    "df_hv = df.withColumn('HV Ratio', df['High']/df['Volume']).select(['HV Ratio'])\n",
    "df_hv.show()"
   ]
  },
  {
   "cell_type": "code",
   "execution_count": null,
   "metadata": {
    "colab": {
     "base_uri": "https://localhost:8080/"
    },
    "id": "gnIlUgAeptRt",
    "outputId": "48d60714-dbc4-4ba5-90db-ae6e40aa4748"
   },
   "outputs": [
    {
     "data": {
      "text/plain": [
       "datetime.datetime(2021, 11, 10, 0, 0)"
      ]
     },
     "execution_count": 12,
     "metadata": {},
     "output_type": "execute_result"
    }
   ],
   "source": [
    "df.orderBy(df['High'].desc()).select(['Date']).head(1)[0]['Date']"
   ]
  },
  {
   "cell_type": "code",
   "execution_count": null,
   "metadata": {
    "colab": {
     "base_uri": "https://localhost:8080/"
    },
    "id": "PdQHShoYpwzt",
    "outputId": "2560694a-0ad4-429f-d1bb-22dc651566d4"
   },
   "outputs": [
    {
     "name": "stdout",
     "output_type": "stream",
     "text": [
      "+------------------+\n",
      "|        avg(Close)|\n",
      "+------------------+\n",
      "|13007.106122698102|\n",
      "+------------------+\n",
      "\n"
     ]
    }
   ],
   "source": [
    "from pyspark.sql.functions import mean\n",
    "\n",
    "df.select(mean('Close')).show()"
   ]
  },
  {
   "cell_type": "code",
   "execution_count": null,
   "metadata": {
    "colab": {
     "base_uri": "https://localhost:8080/"
    },
    "id": "Q2dRcEImpycN",
    "outputId": "4b6e7ad1-9ca0-4b9e-fadb-c438a73b18dc"
   },
   "outputs": [
    {
     "name": "stdout",
     "output_type": "stream",
     "text": [
      "+------------+-----------+\n",
      "| max(Volume)|min(Volume)|\n",
      "+------------+-----------+\n",
      "|350967941479|    5914570|\n",
      "+------------+-----------+\n",
      "\n"
     ]
    }
   ],
   "source": [
    "from pyspark.sql.functions import min, max\n",
    "\n",
    "df.select(max('Volume'),min('Volume')).show()"
   ]
  },
  {
   "cell_type": "code",
   "execution_count": null,
   "metadata": {
    "colab": {
     "base_uri": "https://localhost:8080/"
    },
    "id": "We_-yih0p1GA",
    "outputId": "e4d18a9b-6aef-4803-ad7e-0086f3dba8c9"
   },
   "outputs": [
    {
     "data": {
      "text/plain": [
       "957"
      ]
     },
     "execution_count": 15,
     "metadata": {},
     "output_type": "execute_result"
    }
   ],
   "source": [
    "df.filter(df['Close'] < 1370).count()"
   ]
  },
  {
   "cell_type": "code",
   "execution_count": null,
   "metadata": {
    "colab": {
     "base_uri": "https://localhost:8080/"
    },
    "id": "fgiZ9Ohxp8Zi",
    "outputId": "c6a4f4ee-4420-49fc-926d-b5a935ed2e8e"
   },
   "outputs": [
    {
     "data": {
      "text/plain": [
       "68.92857142857143"
      ]
     },
     "execution_count": 17,
     "metadata": {},
     "output_type": "execute_result"
    }
   ],
   "source": [
    "df.filter('High > 1370').count() * 100/df.count()"
   ]
  },
  {
   "cell_type": "code",
   "execution_count": null,
   "metadata": {
    "colab": {
     "base_uri": "https://localhost:8080/"
    },
    "id": "W0nIK-uWqDeP",
    "outputId": "bef6fd88-b385-4b76-d07b-fecbea67d651"
   },
   "outputs": [
    {
     "name": "stdout",
     "output_type": "stream",
     "text": [
      "+------------------+\n",
      "|corr(High, Volume)|\n",
      "+------------------+\n",
      "|0.7208807144018484|\n",
      "+------------------+\n",
      "\n"
     ]
    }
   ],
   "source": [
    "from pyspark.sql.functions import corr\n",
    "\n",
    "df.select(corr(df['High'], df['Volume'])).show()"
   ]
  },
  {
   "cell_type": "code",
   "execution_count": null,
   "metadata": {
    "colab": {
     "base_uri": "https://localhost:8080/"
    },
    "id": "7kGdZ1PEqFaX",
    "outputId": "c0d93baf-3f92-4f8e-b2f5-8f287199da49"
   },
   "outputs": [
    {
     "name": "stdout",
     "output_type": "stream",
     "text": [
      "+----+------------------+\n",
      "|Year|         max(High)|\n",
      "+----+------------------+\n",
      "|2018|   17712.400390625|\n",
      "|2015|   495.56201171875|\n",
      "|2023|     25134.1171875|\n",
      "|2022|     48086.8359375|\n",
      "|2014|468.17401123046875|\n",
      "|2019|  13796.4892578125|\n",
      "|2020|   29244.876953125|\n",
      "|2016|   979.39697265625|\n",
      "|2017|           20089.0|\n",
      "|2021|         68789.625|\n",
      "+----+------------------+\n",
      "\n"
     ]
    }
   ],
   "source": [
    "from pyspark.sql.functions import (dayofmonth, hour,\n",
    "                                   dayofyear, month,\n",
    "                                   year, weekofyear,\n",
    "                                  format_number, date_format)\n",
    "\n",
    "year_df = df.withColumn('Year', year(df['Date']))\n",
    "\n",
    "year_df.groupBy('Year').max()['Year', 'max(High)'].show()"
   ]
  },
  {
   "cell_type": "code",
   "execution_count": null,
   "metadata": {
    "colab": {
     "base_uri": "https://localhost:8080/"
    },
    "id": "z4SV-NTZqJyt",
    "outputId": "fc0a1023-6c72-4a4a-fce2-a430daaec586"
   },
   "outputs": [
    {
     "name": "stdout",
     "output_type": "stream",
     "text": [
      "+-----+------------------+\n",
      "|Month|        avg(Close)|\n",
      "+-----+------------------+\n",
      "|    1| 13653.07961554852|\n",
      "|    2|14663.487667747837|\n",
      "|    3|14833.352723890735|\n",
      "|    4|15119.381880633036|\n",
      "|    5| 13220.94630475198|\n",
      "|    6| 11180.57880007426|\n",
      "|    7|10856.268967105496|\n",
      "|    8|12722.796311532298|\n",
      "|    9|11565.811348742387|\n",
      "|   10|12331.016559887958|\n",
      "|   11|   13100.038704088|\n",
      "|   12|12898.391135376414|\n",
      "+-----+------------------+\n",
      "\n"
     ]
    }
   ],
   "source": [
    "#Create a new column Month from existing Date column\n",
    "month_df = df.withColumn('Month', month(df['Date']))\n",
    "\n",
    "#Group by month and take average of all other columns\n",
    "month_df = month_df.groupBy('Month').mean()\n",
    "\n",
    "#Sort by month\n",
    "month_df = month_df.orderBy('Month')\n",
    "\n",
    "#Display only month and avg(Close), the desired columns\n",
    "month_df['Month', 'avg(Close)'].show()"
   ]
  }
 ],
 "metadata": {
  "colab": {
   "provenance": []
  },
  "kernelspec": {
   "display_name": "Python 3 (ipykernel)",
   "language": "python",
   "name": "python3"
  },
  "language_info": {
   "codemirror_mode": {
    "name": "ipython",
    "version": 3
   },
   "file_extension": ".py",
   "mimetype": "text/x-python",
   "name": "python",
   "nbconvert_exporter": "python",
   "pygments_lexer": "ipython3",
   "version": "3.7.16"
  }
 },
 "nbformat": 4,
 "nbformat_minor": 1
}
